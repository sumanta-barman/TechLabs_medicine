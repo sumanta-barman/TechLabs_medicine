{
 "cells": [
  {
   "cell_type": "code",
   "execution_count": 1,
   "metadata": {},
   "outputs": [
    {
     "name": "stdout",
     "output_type": "stream",
     "text": [
      "<class 'pandas.core.frame.DataFrame'>\n",
      "RangeIndex: 1429 entries, 0 to 1428\n",
      "Data columns (total 23 columns):\n",
      " #   Column                 Non-Null Count  Dtype  \n",
      "---  ------                 --------------  -----  \n",
      " 0   Survey_id              1429 non-null   int64  \n",
      " 1   Ville_id               1429 non-null   int64  \n",
      " 2   sex                    1429 non-null   int64  \n",
      " 3   Age                    1429 non-null   int64  \n",
      " 4   Married                1429 non-null   int64  \n",
      " 5   Number_children        1429 non-null   int64  \n",
      " 6   education_level        1429 non-null   int64  \n",
      " 7   total_members          1429 non-null   int64  \n",
      " 8   gained_asset           1429 non-null   int64  \n",
      " 9   durable_asset          1429 non-null   int64  \n",
      " 10  save_asset             1429 non-null   int64  \n",
      " 11  living_expenses        1429 non-null   int64  \n",
      " 12  other_expenses         1429 non-null   int64  \n",
      " 13  incoming_salary        1429 non-null   int64  \n",
      " 14  incoming_own_farm      1429 non-null   int64  \n",
      " 15  incoming_business      1429 non-null   int64  \n",
      " 16  incoming_no_business   1429 non-null   int64  \n",
      " 17  incoming_agricultural  1429 non-null   int64  \n",
      " 18  farm_expenses          1429 non-null   int64  \n",
      " 19  labor_primary          1429 non-null   int64  \n",
      " 20  lasting_investment     1429 non-null   int64  \n",
      " 21  no_lasting_investmen   1409 non-null   float64\n",
      " 22  depressed              1429 non-null   int64  \n",
      "dtypes: float64(1), int64(22)\n",
      "memory usage: 256.9 KB\n"
     ]
    },
    {
     "data": {
      "text/html": "<div>\n<style scoped>\n    .dataframe tbody tr th:only-of-type {\n        vertical-align: middle;\n    }\n\n    .dataframe tbody tr th {\n        vertical-align: top;\n    }\n\n    .dataframe thead th {\n        text-align: right;\n    }\n</style>\n<table border=\"1\" class=\"dataframe\">\n  <thead>\n    <tr style=\"text-align: right;\">\n      <th></th>\n      <th>Survey_id</th>\n      <th>Ville_id</th>\n      <th>sex</th>\n      <th>Age</th>\n      <th>Married</th>\n      <th>Number_children</th>\n      <th>education_level</th>\n      <th>total_members</th>\n      <th>gained_asset</th>\n      <th>durable_asset</th>\n      <th>...</th>\n      <th>incoming_salary</th>\n      <th>incoming_own_farm</th>\n      <th>incoming_business</th>\n      <th>incoming_no_business</th>\n      <th>incoming_agricultural</th>\n      <th>farm_expenses</th>\n      <th>labor_primary</th>\n      <th>lasting_investment</th>\n      <th>no_lasting_investmen</th>\n      <th>depressed</th>\n    </tr>\n  </thead>\n  <tbody>\n    <tr>\n      <th>count</th>\n      <td>1429.00000</td>\n      <td>1429.000000</td>\n      <td>1429.000000</td>\n      <td>1429.000000</td>\n      <td>1429.000000</td>\n      <td>1429.000000</td>\n      <td>1429.000000</td>\n      <td>1429.000000</td>\n      <td>1.429000e+03</td>\n      <td>1.429000e+03</td>\n      <td>...</td>\n      <td>1429.000000</td>\n      <td>1429.000000</td>\n      <td>1429.000000</td>\n      <td>1429.000000</td>\n      <td>1.429000e+03</td>\n      <td>1.429000e+03</td>\n      <td>1429.000000</td>\n      <td>1.429000e+03</td>\n      <td>1.409000e+03</td>\n      <td>1429.000000</td>\n    </tr>\n    <tr>\n      <th>mean</th>\n      <td>715.00000</td>\n      <td>76.286214</td>\n      <td>0.918125</td>\n      <td>34.777467</td>\n      <td>0.772568</td>\n      <td>2.883135</td>\n      <td>8.687194</td>\n      <td>4.969209</td>\n      <td>3.363448e+07</td>\n      <td>2.717296e+07</td>\n      <td>...</td>\n      <td>0.179846</td>\n      <td>0.251924</td>\n      <td>0.107768</td>\n      <td>0.260322</td>\n      <td>3.451039e+07</td>\n      <td>3.549153e+07</td>\n      <td>0.213436</td>\n      <td>3.299222e+07</td>\n      <td>3.360385e+07</td>\n      <td>0.166550</td>\n    </tr>\n    <tr>\n      <th>std</th>\n      <td>412.66108</td>\n      <td>66.444012</td>\n      <td>0.274271</td>\n      <td>13.986219</td>\n      <td>0.419320</td>\n      <td>1.874472</td>\n      <td>2.923532</td>\n      <td>1.786317</td>\n      <td>2.003854e+07</td>\n      <td>1.815672e+07</td>\n      <td>...</td>\n      <td>0.384194</td>\n      <td>0.434270</td>\n      <td>0.310195</td>\n      <td>0.438964</td>\n      <td>2.077846e+07</td>\n      <td>2.112372e+07</td>\n      <td>0.409876</td>\n      <td>2.121621e+07</td>\n      <td>2.160228e+07</td>\n      <td>0.372704</td>\n    </tr>\n    <tr>\n      <th>min</th>\n      <td>1.00000</td>\n      <td>1.000000</td>\n      <td>0.000000</td>\n      <td>17.000000</td>\n      <td>0.000000</td>\n      <td>0.000000</td>\n      <td>1.000000</td>\n      <td>1.000000</td>\n      <td>3.251120e+05</td>\n      <td>1.625560e+05</td>\n      <td>...</td>\n      <td>0.000000</td>\n      <td>0.000000</td>\n      <td>0.000000</td>\n      <td>0.000000</td>\n      <td>3.251120e+05</td>\n      <td>2.715050e+05</td>\n      <td>0.000000</td>\n      <td>7.429200e+04</td>\n      <td>1.263120e+05</td>\n      <td>0.000000</td>\n    </tr>\n    <tr>\n      <th>25%</th>\n      <td>358.00000</td>\n      <td>24.000000</td>\n      <td>1.000000</td>\n      <td>25.000000</td>\n      <td>1.000000</td>\n      <td>2.000000</td>\n      <td>8.000000</td>\n      <td>4.000000</td>\n      <td>2.326982e+07</td>\n      <td>1.929852e+07</td>\n      <td>...</td>\n      <td>0.000000</td>\n      <td>0.000000</td>\n      <td>0.000000</td>\n      <td>0.000000</td>\n      <td>2.322229e+07</td>\n      <td>2.279966e+07</td>\n      <td>0.000000</td>\n      <td>2.001911e+07</td>\n      <td>2.064203e+07</td>\n      <td>0.000000</td>\n    </tr>\n    <tr>\n      <th>50%</th>\n      <td>715.00000</td>\n      <td>57.000000</td>\n      <td>1.000000</td>\n      <td>30.000000</td>\n      <td>1.000000</td>\n      <td>3.000000</td>\n      <td>9.000000</td>\n      <td>5.000000</td>\n      <td>2.891220e+07</td>\n      <td>2.286194e+07</td>\n      <td>...</td>\n      <td>0.000000</td>\n      <td>0.000000</td>\n      <td>0.000000</td>\n      <td>0.000000</td>\n      <td>3.002882e+07</td>\n      <td>3.136343e+07</td>\n      <td>0.000000</td>\n      <td>2.841172e+07</td>\n      <td>2.829271e+07</td>\n      <td>0.000000</td>\n    </tr>\n    <tr>\n      <th>75%</th>\n      <td>1072.00000</td>\n      <td>105.000000</td>\n      <td>1.000000</td>\n      <td>42.000000</td>\n      <td>1.000000</td>\n      <td>4.000000</td>\n      <td>10.000000</td>\n      <td>6.000000</td>\n      <td>3.717283e+07</td>\n      <td>2.656950e+07</td>\n      <td>...</td>\n      <td>0.000000</td>\n      <td>1.000000</td>\n      <td>0.000000</td>\n      <td>1.000000</td>\n      <td>4.003842e+07</td>\n      <td>4.348584e+07</td>\n      <td>0.000000</td>\n      <td>3.982686e+07</td>\n      <td>4.151762e+07</td>\n      <td>0.000000</td>\n    </tr>\n    <tr>\n      <th>max</th>\n      <td>1429.00000</td>\n      <td>292.000000</td>\n      <td>1.000000</td>\n      <td>91.000000</td>\n      <td>1.000000</td>\n      <td>11.000000</td>\n      <td>19.000000</td>\n      <td>12.000000</td>\n      <td>9.912755e+07</td>\n      <td>9.961560e+07</td>\n      <td>...</td>\n      <td>1.000000</td>\n      <td>1.000000</td>\n      <td>1.000000</td>\n      <td>1.000000</td>\n      <td>9.978910e+07</td>\n      <td>9.965119e+07</td>\n      <td>1.000000</td>\n      <td>9.944667e+07</td>\n      <td>9.965119e+07</td>\n      <td>1.000000</td>\n    </tr>\n  </tbody>\n</table>\n<p>8 rows × 23 columns</p>\n</div>",
      "text/plain": "        Survey_id     Ville_id          sex          Age      Married  \\\ncount  1429.00000  1429.000000  1429.000000  1429.000000  1429.000000   \nmean    715.00000    76.286214     0.918125    34.777467     0.772568   \nstd     412.66108    66.444012     0.274271    13.986219     0.419320   \nmin       1.00000     1.000000     0.000000    17.000000     0.000000   \n25%     358.00000    24.000000     1.000000    25.000000     1.000000   \n50%     715.00000    57.000000     1.000000    30.000000     1.000000   \n75%    1072.00000   105.000000     1.000000    42.000000     1.000000   \nmax    1429.00000   292.000000     1.000000    91.000000     1.000000   \n\n       Number_children  education_level  total_members  gained_asset  \\\ncount      1429.000000      1429.000000    1429.000000  1.429000e+03   \nmean          2.883135         8.687194       4.969209  3.363448e+07   \nstd           1.874472         2.923532       1.786317  2.003854e+07   \nmin           0.000000         1.000000       1.000000  3.251120e+05   \n25%           2.000000         8.000000       4.000000  2.326982e+07   \n50%           3.000000         9.000000       5.000000  2.891220e+07   \n75%           4.000000        10.000000       6.000000  3.717283e+07   \nmax          11.000000        19.000000      12.000000  9.912755e+07   \n\n       durable_asset  ...  incoming_salary  incoming_own_farm  \\\ncount   1.429000e+03  ...      1429.000000        1429.000000   \nmean    2.717296e+07  ...         0.179846           0.251924   \nstd     1.815672e+07  ...         0.384194           0.434270   \nmin     1.625560e+05  ...         0.000000           0.000000   \n25%     1.929852e+07  ...         0.000000           0.000000   \n50%     2.286194e+07  ...         0.000000           0.000000   \n75%     2.656950e+07  ...         0.000000           1.000000   \nmax     9.961560e+07  ...         1.000000           1.000000   \n\n       incoming_business  incoming_no_business  incoming_agricultural  \\\ncount        1429.000000           1429.000000           1.429000e+03   \nmean            0.107768              0.260322           3.451039e+07   \nstd             0.310195              0.438964           2.077846e+07   \nmin             0.000000              0.000000           3.251120e+05   \n25%             0.000000              0.000000           2.322229e+07   \n50%             0.000000              0.000000           3.002882e+07   \n75%             0.000000              1.000000           4.003842e+07   \nmax             1.000000              1.000000           9.978910e+07   \n\n       farm_expenses  labor_primary  lasting_investment  no_lasting_investmen  \\\ncount   1.429000e+03    1429.000000        1.429000e+03          1.409000e+03   \nmean    3.549153e+07       0.213436        3.299222e+07          3.360385e+07   \nstd     2.112372e+07       0.409876        2.121621e+07          2.160228e+07   \nmin     2.715050e+05       0.000000        7.429200e+04          1.263120e+05   \n25%     2.279966e+07       0.000000        2.001911e+07          2.064203e+07   \n50%     3.136343e+07       0.000000        2.841172e+07          2.829271e+07   \n75%     4.348584e+07       0.000000        3.982686e+07          4.151762e+07   \nmax     9.965119e+07       1.000000        9.944667e+07          9.965119e+07   \n\n         depressed  \ncount  1429.000000  \nmean      0.166550  \nstd       0.372704  \nmin       0.000000  \n25%       0.000000  \n50%       0.000000  \n75%       0.000000  \nmax       1.000000  \n\n[8 rows x 23 columns]"
     },
     "execution_count": 1,
     "metadata": {},
     "output_type": "execute_result"
    }
   ],
   "source": [
    "import pandas as pd\n",
    "from pandas import Series,DataFrame\n",
    "\n",
    "# numpy, matplotlib, seaborn\n",
    "import numpy as np\n",
    "import matplotlib.pyplot as plt\n",
    "#import missingno as missing\n",
    "import seaborn as sns\n",
    "sns.set_style('whitegrid')\n",
    "#%matplotlib inline\n",
    "\n",
    "import random\n",
    "from sklearn import linear_model\n",
    "from sklearn.model_selection import train_test_split\n",
    "from sklearn.ensemble import RandomForestClassifier\n",
    "from sklearn.model_selection import learning_curve, validation_curve\n",
    "from sklearn.metrics import classification_report, confusion_matrix\n",
    "from sklearn.model_selection import GridSearchCV\n",
    "from sklearn import metrics\n",
    "from sklearn.metrics import make_scorer, accuracy_score\n",
    "#from sklearn.metrics import roc_curve, roc_auc_score ,auc, plot_roc_curve\n",
    "from sklearn import svm\n",
    "import sklearn.metrics\n",
    "from sklearn.neural_network import MLPClassifier\n",
    "from sklearn.preprocessing import OneHotEncoder\n",
    "\n",
    "from sklearn.model_selection import cross_val_score\n",
    "from sklearn.model_selection import cross_validate\n",
    "\n",
    "from sklearn.neighbors import KNeighborsClassifier\n",
    "from sklearn.tree import DecisionTreeClassifier\n",
    "from sklearn.ensemble import RandomForestClassifier\n",
    "#\n",
    "\n",
    "df = pd.read_csv(\"b_depressed.csv\")\n",
    "\n",
    "# preview the data\n",
    "df.head()\n",
    "\n",
    "\n",
    "df.info()\n",
    "\n",
    "df.describe()"
   ]
  },
  {
   "cell_type": "code",
   "execution_count": null,
   "metadata": {},
   "outputs": [],
   "source": []
  }
 ],
 "metadata": {
  "kernelspec": {
   "display_name": "Python 3.8.5 64-bit ('base': conda)",
   "name": "python385jvsc74a57bd09c49c733c021723d196ac720a4ef957ac0cd12fc16dcaec74fb708731994343e"
  },
  "language_info": {
   "codemirror_mode": {
    "name": "ipython",
    "version": 3
   },
   "file_extension": ".py",
   "mimetype": "text/x-python",
   "name": "python",
   "nbconvert_exporter": "python",
   "pygments_lexer": "ipython3",
   "version": "3.8.5"
  },
  "orig_nbformat": 2
 },
 "nbformat": 4,
 "nbformat_minor": 2
}