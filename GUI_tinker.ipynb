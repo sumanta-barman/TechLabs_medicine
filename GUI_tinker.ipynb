{
 "cells": [
  {
   "cell_type": "code",
   "execution_count": 3,
   "metadata": {},
   "outputs": [],
   "source": [
    "from tkinter import *\n",
    "\n",
    "root = Tk()\n",
    "\n",
    "#creating a Label Widget\n",
    "myLabel1 = Label(root, text=\"Hello Techis!\")\n",
    "myLabel2 = Label(root, text=\"I am Sumanta\")\n",
    "#Shoving in into the screen\n",
    "#myLabel.pack()\n",
    "myLabel1.grid(row=0, column=1)\n",
    "myLabel2.grid(row=1, column=5)\n",
    "\n",
    "#looping\n",
    "root.mainloop()\n",
    "#make buttons"
   ]
  },
  {
   "cell_type": "code",
   "execution_count": 1,
   "metadata": {},
   "outputs": [],
   "source": [
    "from tkinter import *\n",
    "\n",
    "root = Tk()\n",
    "def myClick():\n",
    "    myLabel = Label(root, text=\"Hi, nice to meet you!!\")\n",
    "    myLabel.pack()\n",
    "\n",
    "myButton = Button(root, text=\"Click me\", command=myClick)#execute the code\n",
    "myButton.pack()\n",
    "root.mainloop()\n"
   ]
  },
  {
   "cell_type": "code",
   "execution_count": 4,
   "metadata": {},
   "outputs": [],
   "source": [
    "from tkinter import *\n",
    "\n",
    "root = Tk()\n",
    "def myClick():\n",
    "    myLabel = Label(root, text=\"Hi, nice to meet you!!\")\n",
    "    myLabel.pack()\n",
    "\n",
    "myButton = Button(root, text=\"Click me\", command=myClick)#execute the code\n",
    "myButton.pack()\n",
    "root.mainloop()"
   ]
  },
  {
   "cell_type": "code",
   "execution_count": 6,
   "metadata": {},
   "outputs": [
    {
     "ename": "IndentationError",
     "evalue": "expected an indented block (<ipython-input-6-0fb38a60b9c0>, line 13)",
     "output_type": "error",
     "traceback": [
      "\u001b[0;36m  File \u001b[0;32m\"<ipython-input-6-0fb38a60b9c0>\"\u001b[0;36m, line \u001b[0;32m13\u001b[0m\n\u001b[0;31m    button_1 = Button(text = \"SUBMIT\", command = open1)\u001b[0m\n\u001b[0m    ^\u001b[0m\n\u001b[0;31mIndentationError\u001b[0m\u001b[0;31m:\u001b[0m expected an indented block\n"
     ]
    }
   ],
   "source": [
    "\n",
    "from tkinter import *\n",
    "root = Tk()\n",
    "label1 = Label(text = \" enter text : \")\n",
    "label1.pack()\n",
    "clvar = IntVar()\n",
    "cluster = Entry(bd = 5)\n",
    "clvar = cluster.get()\n",
    "cluster.pack()\n",
    "def open1():\n",
    "  #print (\"K-MEDOIDS CLUSTERING\")\n",
    "  #execfile('example.py')\n",
    "\n",
    "button_1 = Button(text = \"SUBMIT\", command = open1)\n",
    "button_1.pack()\n",
    "root.mainloop()\n",
    "\n"
   ]
  },
  {
   "cell_type": "code",
   "execution_count": 2,
   "metadata": {},
   "outputs": [],
   "source": [
    "root = Tk()\n",
    "root.configure(background='white')\n",
    "Symptom1 = StringVar()\n",
    "Symptom1.set(\"Select Here\")\n",
    "Symptom2 = StringVar()\n",
    "Symptom2.set(\"Select Here\")\n",
    "Symptom3 = StringVar()\n",
    "Symptom3.set(\"Select Here\")\n",
    "Symptom4 = StringVar()\n",
    "Symptom4.set(\"Select Here\")\n",
    "Symptom5 = StringVar()\n",
    "Symptom5.set(\"Select Here\")\n",
    "Name = StringVar()\n",
    "\n",
    "w2 = Label(root, justify=LEFT, text=\"Depression Predictor using Machine Learning\", fg=\"Red\", bg=\"White\")\n",
    "w2.config(font=(\"Times\",30,\"bold italic\"))\n",
    "w2.grid(row=1, column=0, columnspan=2, padx=100)\n",
    "w2 = Label(root, justify=LEFT, text=\"A Project by Techlabs Dusseldorf\", fg=\"Red\", bg=\"Blue\")\n",
    "w2.config(font=(\"Times\",30,\"bold italic\"))\n",
    "w2.grid(row=2, column=0, columnspan=2, padx=100)\n",
    "\n",
    "root.mainloop()"
   ]
  }
 ],
 "metadata": {
  "kernelspec": {
   "display_name": "Python 3.8.5 64-bit ('base': conda)",
   "name": "python385jvsc74a57bd09c49c733c021723d196ac720a4ef957ac0cd12fc16dcaec74fb708731994343e"
  },
  "language_info": {
   "name": "python",
   "version": ""
  },
  "orig_nbformat": 2
 },
 "nbformat": 4,
 "nbformat_minor": 2
}