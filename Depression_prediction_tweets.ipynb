{
 "cells": [
  {
   "cell_type": "code",
   "execution_count": 1,
   "metadata": {},
   "outputs": [
    {
     "data": {
      "text/html": "<div>\n<style scoped>\n    .dataframe tbody tr th:only-of-type {\n        vertical-align: middle;\n    }\n\n    .dataframe tbody tr th {\n        vertical-align: top;\n    }\n\n    .dataframe thead th {\n        text-align: right;\n    }\n</style>\n<table border=\"1\" class=\"dataframe\">\n  <thead>\n    <tr style=\"text-align: right;\">\n      <th></th>\n      <th>Index</th>\n      <th>message</th>\n      <th>label (depression result)</th>\n    </tr>\n  </thead>\n  <tbody>\n    <tr>\n      <th>0</th>\n      <td>106</td>\n      <td>just had a real good moment. i missssssssss hi...</td>\n      <td>0</td>\n    </tr>\n    <tr>\n      <th>1</th>\n      <td>217</td>\n      <td>is reading manga  http://plurk.com/p/mzp1e</td>\n      <td>0</td>\n    </tr>\n    <tr>\n      <th>2</th>\n      <td>220</td>\n      <td>@comeagainjen http://twitpic.com/2y2lx - http:...</td>\n      <td>0</td>\n    </tr>\n    <tr>\n      <th>3</th>\n      <td>288</td>\n      <td>@lapcat Need to send 'em to my accountant tomo...</td>\n      <td>0</td>\n    </tr>\n    <tr>\n      <th>4</th>\n      <td>540</td>\n      <td>ADD ME ON MYSPACE!!!  myspace.com/LookThunder</td>\n      <td>0</td>\n    </tr>\n  </tbody>\n</table>\n</div>",
      "text/plain": "   Index                                            message  \\\n0    106  just had a real good moment. i missssssssss hi...   \n1    217         is reading manga  http://plurk.com/p/mzp1e   \n2    220  @comeagainjen http://twitpic.com/2y2lx - http:...   \n3    288  @lapcat Need to send 'em to my accountant tomo...   \n4    540      ADD ME ON MYSPACE!!!  myspace.com/LookThunder   \n\n   label (depression result)  \n0                          0  \n1                          0  \n2                          0  \n3                          0  \n4                          0  "
     },
     "execution_count": 1,
     "metadata": {},
     "output_type": "execute_result"
    }
   ],
   "source": [
    "#!pip install wordcloud\n",
    "from wordcloud import WordCloud\n",
    "import numpy as np \n",
    "import pandas as pd\n",
    "from sklearn.model_selection import train_test_split\n",
    "#!pip install neattext\n",
    "#!pip install plotly\n",
    "import neattext.functions as nfx\n",
    "import matplotlib.pyplot as plt\n",
    "import plotly.express as plx\n",
    "from sklearn.metrics import classification_report\n",
    "#!pip install keras\n",
    "import keras\n",
    "from keras.layers import Embedding,Dense,LSTM,Bidirectional,GlobalMaxPooling1D,Input,Dropout\n",
    "from keras.callbacks import EarlyStopping,ReduceLROnPlateau\n",
    "from keras.models import Sequential\n",
    "#!pip install tensorflow\n",
    "import tensorflow as tf\n",
    "from sklearn.preprocessing import LabelEncoder\n",
    "from keras.preprocessing.text import Tokenizer\n",
    "from keras.preprocessing.sequence import pad_sequences\n",
    "from tqdm import tqdm\n",
    "import seaborn as sns\n",
    "import pickle\n",
    "import warnings\n",
    "warnings.filterwarnings('ignore')\n",
    "df = pd.read_csv(\"sentiment_tweets1.csv\")\n",
    "\n",
    "# preview the data\n",
    "df.head()"
   ]
  },
  {
   "cell_type": "code",
   "execution_count": 3,
   "metadata": {},
   "outputs": [
    {
     "name": "stdout",
     "output_type": "stream",
     "text": [
      "<class 'pandas.core.frame.DataFrame'>\n",
      "RangeIndex: 10314 entries, 0 to 10313\n",
      "Data columns (total 3 columns):\n",
      " #   Column                     Non-Null Count  Dtype \n",
      "---  ------                     --------------  ----- \n",
      " 0   Index                      10314 non-null  int64 \n",
      " 1   message                    10314 non-null  object\n",
      " 2   label (depression result)  10314 non-null  int64 \n",
      "dtypes: int64(2), object(1)\n",
      "memory usage: 241.9+ KB\n"
     ]
    }
   ],
   "source": [
    "df.info()"
   ]
  },
  {
   "cell_type": "code",
   "execution_count": 4,
   "metadata": {},
   "outputs": [
    {
     "data": {
      "text/html": "<div>\n<style scoped>\n    .dataframe tbody tr th:only-of-type {\n        vertical-align: middle;\n    }\n\n    .dataframe tbody tr th {\n        vertical-align: top;\n    }\n\n    .dataframe thead th {\n        text-align: right;\n    }\n</style>\n<table border=\"1\" class=\"dataframe\">\n  <thead>\n    <tr style=\"text-align: right;\">\n      <th></th>\n      <th>Index</th>\n      <th>label (depression result)</th>\n    </tr>\n  </thead>\n  <tbody>\n    <tr>\n      <th>count</th>\n      <td>10314.000000</td>\n      <td>10314.000000</td>\n    </tr>\n    <tr>\n      <th>mean</th>\n      <td>491253.470525</td>\n      <td>0.224355</td>\n    </tr>\n    <tr>\n      <th>std</th>\n      <td>261688.134407</td>\n      <td>0.417177</td>\n    </tr>\n    <tr>\n      <th>min</th>\n      <td>106.000000</td>\n      <td>0.000000</td>\n    </tr>\n    <tr>\n      <th>25%</th>\n      <td>263019.250000</td>\n      <td>0.000000</td>\n    </tr>\n    <tr>\n      <th>50%</th>\n      <td>514988.000000</td>\n      <td>0.000000</td>\n    </tr>\n    <tr>\n      <th>75%</th>\n      <td>773521.500000</td>\n      <td>0.000000</td>\n    </tr>\n    <tr>\n      <th>max</th>\n      <td>802313.000000</td>\n      <td>1.000000</td>\n    </tr>\n  </tbody>\n</table>\n</div>",
      "text/plain": "               Index  label (depression result)\ncount   10314.000000               10314.000000\nmean   491253.470525                   0.224355\nstd    261688.134407                   0.417177\nmin       106.000000                   0.000000\n25%    263019.250000                   0.000000\n50%    514988.000000                   0.000000\n75%    773521.500000                   0.000000\nmax    802313.000000                   1.000000"
     },
     "execution_count": 4,
     "metadata": {},
     "output_type": "execute_result"
    }
   ],
   "source": [
    "df.describe()"
   ]
  },
  {
   "cell_type": "code",
   "execution_count": 5,
   "metadata": {},
   "outputs": [
    {
     "data": {
      "text/plain": "(10314, 3)"
     },
     "execution_count": 5,
     "metadata": {},
     "output_type": "execute_result"
    }
   ],
   "source": [
    "df.shape"
   ]
  },
  {
   "cell_type": "code",
   "execution_count": 6,
   "metadata": {},
   "outputs": [
    {
     "data": {
      "text/plain": "0        just had a real good moment. i missssssssss hi...\n1               is reading manga  http://plurk.com/p/mzp1e\n2        @comeagainjen http://twitpic.com/2y2lx - http:...\n3        @lapcat Need to send 'em to my accountant tomo...\n4            ADD ME ON MYSPACE!!!  myspace.com/LookThunder\n                               ...                        \n10309    No Depression by G Herbo is my mood from now o...\n10310    What do you do when depression succumbs the br...\n10311    Ketamine Nasal Spray Shows Promise Against Dep...\n10312    dont mistake a bad day with depression! everyo...\n10313                                                    0\nName: message, Length: 10314, dtype: object"
     },
     "execution_count": 6,
     "metadata": {},
     "output_type": "execute_result"
    }
   ],
   "source": [
    "df.message"
   ]
  },
  {
   "cell_type": "code",
   "execution_count": 7,
   "metadata": {},
   "outputs": [
    {
     "data": {
      "text/plain": "0    8000\n1    2314\nName: label (depression result), dtype: int64"
     },
     "execution_count": 7,
     "metadata": {},
     "output_type": "execute_result"
    }
   ],
   "source": [
    "df['label (depression result)'].value_counts()"
   ]
  },
  {
   "cell_type": "code",
   "execution_count": 17,
   "metadata": {},
   "outputs": [
    {
     "data": {
      "text/plain": "array([0, 1])"
     },
     "execution_count": 17,
     "metadata": {},
     "output_type": "execute_result"
    }
   ],
   "source": [
    "\n",
    "\n",
    "\n",
    "df['label (depression result)'].value_counts().index.values\n",
    "\n"
   ]
  },
  {
   "cell_type": "code",
   "execution_count": 8,
   "metadata": {},
   "outputs": [],
   "source": [
    "#data set split\n",
    "\n",
    "train_data,test_data=train_test_split(df, test_size=0.2, random_state=10)\n",
    "\n"
   ]
  },
  {
   "cell_type": "code",
   "execution_count": 19,
   "metadata": {},
   "outputs": [
    {
     "data": {
      "text/plain": "array([0, 1])"
     },
     "execution_count": 19,
     "metadata": {},
     "output_type": "execute_result"
    }
   ],
   "source": [
    "train_data['label (depression result)'].value_counts().index.values"
   ]
  },
  {
   "cell_type": "code",
   "execution_count": 9,
   "metadata": {},
   "outputs": [
    {
     "data": {
      "image/png": "[encoded data removed]",
      "text/plain": "<Figure size 720x576 with 1 Axes>"
     },
     "metadata": {},
     "output_type": "display_data"
    }
   ],
   "source": [
    "\n",
    "\n",
    "plt.figure(figsize=(10,8))\n",
    "plt.pie(train_data['label (depression result)'].value_counts(),startangle=90,colors=['green', 'red'],\n",
    "        autopct='%0.2f%%',labels=['no','yes'])\n",
    "plt.title('Depression Or Not ?',fontdict={'size':20})\n",
    "plt.show()\n",
    "\n",
    "#['#06dddf','#000fbb'],\n",
    "\n"
   ]
  },
  {
   "cell_type": "code",
   "execution_count": 10,
   "metadata": {},
   "outputs": [],
   "source": [
    "#Data cleaning\n",
    "def clean_text(message):\n",
    "    text_length=[]\n",
    "    cleaned_text=[]\n",
    "    for sent in tqdm(message):\n",
    "        sent=sent.lower()\n",
    "        sent=nfx.remove_special_characters(sent)\n",
    "        sent=nfx.remove_stopwords(sent)\n",
    "#         sent=nfx.remove_shortwords(sent)\n",
    "        text_length.append(len(sent.split()))\n",
    "        cleaned_text.append(sent)\n",
    "    return cleaned_text,text_length"
   ]
  },
  {
   "cell_type": "code",
   "execution_count": 11,
   "metadata": {},
   "outputs": [
    {
     "name": "stderr",
     "output_type": "stream",
     "text": [
      "100%|██████████| 8251/8251 [00:00<00:00, 27187.23it/s]\n",
      "100%|██████████| 2063/2063 [00:00<00:00, 40435.95it/s]\n"
     ]
    }
   ],
   "source": [
    "cleaned_train_text,train_text_length=clean_text(train_data.message)\n",
    "cleaned_test_text,test_text_length=clean_text(test_data.message)"
   ]
  },
  {
   "cell_type": "code",
   "execution_count": 12,
   "metadata": {},
   "outputs": [
    {
     "data": {
      "image/png": "[encoded data removed]",
      "text/plain": "<Figure size 1440x864 with 1 Axes>"
     },
     "metadata": {
      "needs_background": "light"
     },
     "output_type": "display_data"
    }
   ],
   "source": [
    "\n",
    "\n",
    "plt.figure(figsize=(20,12))\n",
    "sns.distplot(train_text_length)\n",
    "# plt.axis([-10,100,0,0.03])\n",
    "plt.show()\n",
    "\n"
   ]
  },
  {
   "cell_type": "code",
   "execution_count": 13,
   "metadata": {},
   "outputs": [],
   "source": [
    "tokenizer=Tokenizer()\n",
    "tokenizer.fit_on_texts(cleaned_train_text)"
   ]
  },
  {
   "cell_type": "code",
   "execution_count": 14,
   "metadata": {},
   "outputs": [],
   "source": [
    "word_freq=pd.DataFrame(tokenizer.word_counts.items(),columns=['word','count']).sort_values(by='count',ascending=False)"
   ]
  },
  {
   "cell_type": "code",
   "execution_count": 15,
   "metadata": {},
   "outputs": [
    {
     "data": {
      "image/png": "[encoded data removed]",
      "text/plain": "<Figure size 1440x1440 with 1 Axes>"
     },
     "metadata": {
      "needs_background": "light"
     },
     "output_type": "display_data"
    }
   ],
   "source": [
    "plt.figure(figsize=(20,20))\n",
    "sns.barplot(x='count',y='word',data=word_freq.iloc[:100])\n",
    "plt.show()"
   ]
  },
  {
   "cell_type": "code",
   "execution_count": 17,
   "metadata": {},
   "outputs": [
    {
     "name": "stdout",
     "output_type": "stream",
     "text": [
      "@modejunkie awww sweetness! But he's still a cutie!  0.0\n",
      "my anxiety and my depression fighting over whos day it is  https://twitter.com/crissles/status/988218861697806336Â â¦ 1.0\n"
     ]
    }
   ],
   "source": [
    "\n",
    "\n",
    "tweets = df.values[:,1]\n",
    "labels = df.values[:,2].astype(float)\n",
    "print (tweets[45], labels[45])\n",
    "print (tweets[8005], labels[8005])\n",
    "\n"
   ]
  },
  {
   "cell_type": "code",
   "execution_count": 18,
   "metadata": {},
   "outputs": [],
   "source": [
    "#!pip install sentence-transformers\n",
    "from sentence_transformers import SentenceTransformer\n",
    "bert_model = SentenceTransformer('distilbert-base-nli-mean-tokens')"
   ]
  },
  {
   "cell_type": "code",
   "execution_count": 19,
   "metadata": {},
   "outputs": [
    {
     "name": "stderr",
     "output_type": "stream",
     "text": [
      "Batches: 100%|██████████| 323/323 [11:48<00:00,  2.19s/it]\n"
     ]
    },
    {
     "name": "stdout",
     "output_type": "stream",
     "text": [
      "(10314, 768)\n"
     ]
    }
   ],
   "source": [
    "\n",
    "embeddings = bert_model.encode(tweets, show_progress_bar=True)\n",
    "\n",
    "print (embeddings.shape)\n",
    "\n",
    "\n",
    "#embeddings = bert_model.encode(df.message, show_progress_bar=True)\n",
    "#print (embeddings.shape)\n"
   ]
  },
  {
   "cell_type": "code",
   "execution_count": 20,
   "metadata": {},
   "outputs": [
    {
     "data": {
      "text/plain": "array([[-0.88297683,  0.045337  ,  1.038359  , ..., -0.28533867,\n        -0.02419497, -0.21043606],\n       [-0.43105194, -0.7311447 ,  0.6841728 , ...,  0.16172639,\n         0.17172974, -0.6560318 ],\n       [ 0.22631957, -0.38629708,  0.8538063 , ...,  0.02654455,\n        -0.205984  ,  0.02080384],\n       ...,\n       [-0.2663838 , -0.32669133,  0.7152725 , ..., -0.10697744,\n        -0.41044775,  0.29736015],\n       [-0.87485933, -0.20091745,  0.28983176, ..., -0.26827544,\n         0.05667134, -0.21770394],\n       [-1.1190494 , -0.08939341,  0.03098689, ..., -0.17223687,\n        -0.19136567,  0.36089864]], dtype=float32)"
     },
     "execution_count": 20,
     "metadata": {},
     "output_type": "execute_result"
    }
   ],
   "source": [
    "embeddings"
   ]
  },
  {
   "cell_type": "markdown",
   "metadata": {},
   "source": []
  },
  {
   "cell_type": "code",
   "execution_count": 21,
   "metadata": {},
   "outputs": [],
   "source": [
    "X = embeddings\n",
    "y = df['label (depression result)']"
   ]
  },
  {
   "cell_type": "code",
   "execution_count": 22,
   "metadata": {},
   "outputs": [],
   "source": [
    "from sklearn.model_selection import train_test_split\n",
    "X_train, X_test, y_train, y_test = train_test_split(X, y, test_size=0.2)#20% better"
   ]
  },
  {
   "cell_type": "code",
   "execution_count": 27,
   "metadata": {},
   "outputs": [
    {
     "name": "stdout",
     "output_type": "stream",
     "text": [
      "              precision    recall  f1-score   support\n",
      "\n",
      "           0       0.95      1.00      0.97      1561\n",
      "           1       0.98      0.83      0.90       502\n",
      "\n",
      "    accuracy                           0.95      2063\n",
      "   macro avg       0.97      0.91      0.93      2063\n",
      "weighted avg       0.96      0.95      0.95      2063\n",
      "\n"
     ]
    }
   ],
   "source": [
    "#Random Forest\n",
    "from sklearn.metrics import classification_report\n",
    "from sklearn.ensemble import RandomForestClassifier\n",
    "model= RandomForestClassifier(random_state=1) #get instance of model\n",
    "fit = model.fit(X_train, y_train) #train or fit model\n",
    "y_pred=model.predict(X_test) #get y predictons\n",
    "print(classification_report(y_test, y_pred)) #output accuracy"
   ]
  },
  {
   "cell_type": "code",
   "execution_count": 98,
   "metadata": {},
   "outputs": [
    {
     "name": "stdout",
     "output_type": "stream",
     "text": [
      "Fitting 2 folds for each of 10 candidates, totalling 20 fits\n"
     ]
    },
    {
     "data": {
      "text/plain": "RandomizedSearchCV(cv=2, estimator=RandomForestClassifier(), n_jobs=-1,\n                   param_distributions={'bootstrap': [True, False],\n                                        'max_depth': [3, None],\n                                        'max_features': ['auto', 'sqrt'],\n                                        'min_samples_leaf': [1, 2, 4],\n                                        'min_samples_split': [2, 5, 10],\n                                        'n_estimators': [10, 64, 118, 173, 227,\n                                                         282, 336, 391, 445,\n                                                         500]},\n                   random_state=42, verbose=2)"
     },
     "execution_count": 98,
     "metadata": {},
     "output_type": "execute_result"
    }
   ],
   "source": [
    "#Hyperparameter tuning > HPs are parameters that can be adjusted and fine tuned in order to improve the performance of the machine learning model\n",
    "#A hyperparameter is a parameter whose value is used to control the learning process. \n",
    "# Hyperparameters are points of choice or configuration that allow a machine learning model to be customised for a specific task or dataset.\n",
    "from sklearn.model_selection import RandomizedSearchCV\n",
    "from sklearn.ensemble import RandomForestClassifier\n",
    "\n",
    "n_estimators = [int(x) for x in np.linspace(start = 10, stop = 500, num = 10)]\n",
    "max_features = ['auto', 'sqrt']\n",
    "max_depth = [int(x) for x in np.linspace(3, 10, num = 1)]\n",
    "max_depth.append(None)\n",
    "min_samples_split = [2, 5, 10]\n",
    "min_samples_leaf = [1, 2, 4]\n",
    "bootstrap = [True, False]\n",
    "\n",
    "random_grid = {'n_estimators': n_estimators,\n",
    "               'max_features': max_features,\n",
    "               'max_depth': max_depth,\n",
    "               'min_samples_split': min_samples_split,\n",
    "               'min_samples_leaf': min_samples_leaf,\n",
    "               'bootstrap': bootstrap}\n",
    "\n",
    "rf = RandomForestClassifier()\n",
    "\n",
    "rf_random = RandomizedSearchCV(estimator = rf, param_distributions = random_grid, n_iter = 10, cv = 2, verbose=2, random_state=42, n_jobs = -1)\n",
    "A = rf_random.fit(X_train, y_train)\n",
    "A\n",
    "\n"
   ]
  },
  {
   "cell_type": "code",
   "execution_count": 96,
   "metadata": {},
   "outputs": [
    {
     "name": "stdout",
     "output_type": "stream",
     "text": [
      "[[1554    7]\n",
      " [  87  415]]\n"
     ]
    },
    {
     "data": {
      "image/png": "[encoded data removed]",
      "text/plain": "<Figure size 432x288 with 1 Axes>"
     },
     "metadata": {
      "needs_background": "light"
     },
     "output_type": "display_data"
    }
   ],
   "source": [
    "#infusion metrix\n",
    "from sklearn.metrics import confusion_matrix, accuracy_score\n",
    "cm = confusion_matrix(y_test, y_pred)\n",
    "print(cm)\n",
    "accuracy_score(y_test, y_pred)\n",
    "\n",
    "from mlxtend.plotting import plot_confusion_matrix\n",
    "fig, ax = plot_confusion_matrix(conf_mat = cm)\n",
    "plt.show()\n",
    "#How to interpret infusion metrix\n",
    "#1554 is the amount of True Positives in our data, while 415 is the amount of True Negatives. 7 & 87 are the number of errors.\n",
    "#There are 7 Type 1 errors (False Positives)- You predicted positive and it’s false.\n",
    "#There are 87 Type 2 errors (False Negatives)- You predicted negative and it’s false. \n",
    "# Hence, if we calculate the accuracy its # Correct Predicted/ # Total.\n",
    "#In other words, where TP, FN, FP and TN represent the number of true positives, false negatives, false positives and true negatives.\n",
    "\n",
    "#Accuracy = (TP + TN)/(TP + TN + FP + FN).\n",
    "#Accuracy =(1554+415)/(1554+415+7+87) = 1969/2063 = 0.9544 = 95.44% accuracy\n",
    "\n"
   ]
  },
  {
   "cell_type": "code",
   "execution_count": 97,
   "metadata": {},
   "outputs": [
    {
     "name": "stdout",
     "output_type": "stream",
     "text": [
      "The outcome is: \n",
      "not depressed\n"
     ]
    }
   ],
   "source": [
    "words = np.array(['not depressed', 'depressed'])\n",
    "print(\"The outcome is: \")\n",
    "print(words[fit.predict([bert_model.encode(\"If you choose to define me by my mistakes, Remember redemption doesn't fall down at your feet.\")])].squeeze())"
   ]
  },
  {
   "cell_type": "code",
   "execution_count": 34,
   "metadata": {},
   "outputs": [
    {
     "name": "stdout",
     "output_type": "stream",
     "text": [
      "              precision    recall  f1-score   support\n",
      "\n",
      "           0       0.97      0.94      0.95      1561\n",
      "           1       0.83      0.91      0.87       502\n",
      "\n",
      "    accuracy                           0.93      2063\n",
      "   macro avg       0.90      0.92      0.91      2063\n",
      "weighted avg       0.94      0.93      0.93      2063\n",
      "\n"
     ]
    }
   ],
   "source": [
    "#Naives Bayes Classifier\n",
    "from sklearn.metrics import classification_report\n",
    "from sklearn.naive_bayes import GaussianNB\n",
    "model1= GaussianNB() #get instance of model\n",
    "fit1 = model1.fit(X_train, y_train) #train or fit model\n",
    "y_pred1=model1.predict(X_test) #get y predictons\n",
    "print(classification_report(y_test, y_pred1)) #output accuracy"
   ]
  },
  {
   "cell_type": "code",
   "execution_count": 68,
   "metadata": {},
   "outputs": [
    {
     "name": "stdout",
     "output_type": "stream",
     "text": [
      "[[1469   92]\n",
      " [  47  455]]\n"
     ]
    },
    {
     "data": {
      "image/png": "[encoded data removed]",
      "text/plain": "<Figure size 432x288 with 1 Axes>"
     },
     "metadata": {
      "needs_background": "light"
     },
     "output_type": "display_data"
    }
   ],
   "source": [
    "from sklearn.metrics import confusion_matrix, accuracy_score\n",
    "cm1 = confusion_matrix(y_test, y_pred1)\n",
    "print(cm1)\n",
    "accuracy_score(y_test, y_pred1)\n",
    "\n",
    "from mlxtend.plotting import plot_confusion_matrix\n",
    "fig, ax = plot_confusion_matrix(conf_mat = cm1)\n",
    "plt.show()"
   ]
  },
  {
   "cell_type": "code",
   "execution_count": 50,
   "metadata": {},
   "outputs": [
    {
     "name": "stdout",
     "output_type": "stream",
     "text": [
      "The outcome is: \n",
      "not depressed\n"
     ]
    }
   ],
   "source": [
    "words = np.array(['not depressed', 'depressed'])\n",
    "print(\"The outcome is: \")\n",
    "print(words[fit1.predict([bert_model.encode(\"If you choose to define me by my mistakes, Remember redemption doesn't fall down at your feet.\")])].squeeze())"
   ]
  },
  {
   "cell_type": "code",
   "execution_count": 37,
   "metadata": {},
   "outputs": [
    {
     "name": "stdout",
     "output_type": "stream",
     "text": [
      "              precision    recall  f1-score   support\n",
      "\n",
      "           0       0.98      1.00      0.99      1561\n",
      "           1       1.00      0.93      0.96       502\n",
      "\n",
      "    accuracy                           0.98      2063\n",
      "   macro avg       0.99      0.97      0.98      2063\n",
      "weighted avg       0.98      0.98      0.98      2063\n",
      "\n"
     ]
    }
   ],
   "source": [
    "#SVM(Support Vectpr Machine)\n",
    "from sklearn.metrics import classification_report\n",
    "from sklearn.svm import SVC\n",
    "model2 = SVC(random_state=1) #get instance of model\n",
    "fit2 = model2.fit(X_train, y_train) #train or fit model\n",
    "y_pred2 = model2.predict(X_test) #get y predictons\n",
    "print(classification_report(y_test, y_pred2)) #output accuracy"
   ]
  },
  {
   "cell_type": "code",
   "execution_count": 67,
   "metadata": {},
   "outputs": [
    {
     "name": "stdout",
     "output_type": "stream",
     "text": [
      "[[1559    2]\n",
      " [  34  468]]\n"
     ]
    },
    {
     "data": {
      "image/png": "[encoded data removed]",
      "text/plain": "<Figure size 432x288 with 1 Axes>"
     },
     "metadata": {
      "needs_background": "light"
     },
     "output_type": "display_data"
    }
   ],
   "source": [
    "from sklearn.metrics import confusion_matrix, accuracy_score\n",
    "cm2 = confusion_matrix(y_test, y_pred2)\n",
    "print(cm2)\n",
    "accuracy_score(y_test, y_pred2)\n",
    "\n",
    "from mlxtend.plotting import plot_confusion_matrix\n",
    "fig, ax = plot_confusion_matrix(conf_mat = cm2)\n",
    "plt.show()"
   ]
  },
  {
   "cell_type": "code",
   "execution_count": 51,
   "metadata": {},
   "outputs": [
    {
     "name": "stdout",
     "output_type": "stream",
     "text": [
      "The outcome is: \n",
      "depressed\n"
     ]
    }
   ],
   "source": [
    "words = np.array(['not depressed', 'depressed'])\n",
    "print(\"The outcome is: \")\n",
    "print(words[fit2.predict([bert_model.encode(\"If you choose to define me by my mistakes, Remember redemption doesn't fall down at your feet.\")])].squeeze())"
   ]
  },
  {
   "cell_type": "code",
   "execution_count": 39,
   "metadata": {},
   "outputs": [
    {
     "name": "stdout",
     "output_type": "stream",
     "text": [
      "              precision    recall  f1-score   support\n",
      "\n",
      "           0       0.98      1.00      0.99      1561\n",
      "           1       0.99      0.95      0.97       502\n",
      "\n",
      "    accuracy                           0.98      2063\n",
      "   macro avg       0.98      0.97      0.98      2063\n",
      "weighted avg       0.98      0.98      0.98      2063\n",
      "\n"
     ]
    }
   ],
   "source": [
    "#Logistic Regression\n",
    "from sklearn.metrics import classification_report\n",
    "from sklearn.linear_model import LogisticRegression\n",
    "model3 = LogisticRegression(random_state=1) #get instance of model\n",
    "fit3 = model3.fit(X_train, y_train) #train or fit model\n",
    "y_pred3 = model3.predict(X_test) #get y predictons\n",
    "print(classification_report(y_test, y_pred3)) #output accuracy"
   ]
  },
  {
   "cell_type": "code",
   "execution_count": 66,
   "metadata": {},
   "outputs": [
    {
     "name": "stdout",
     "output_type": "stream",
     "text": [
      "[[1554    7]\n",
      " [  26  476]]\n"
     ]
    },
    {
     "data": {
      "image/png": "[encoded data removed]",
      "text/plain": "<Figure size 432x288 with 1 Axes>"
     },
     "metadata": {
      "needs_background": "light"
     },
     "output_type": "display_data"
    }
   ],
   "source": [
    "from sklearn.metrics import confusion_matrix, accuracy_score\n",
    "cm3 = confusion_matrix(y_test, y_pred3)\n",
    "print(cm3)\n",
    "accuracy_score(y_test, y_pred3)\n",
    "\n",
    "from mlxtend.plotting import plot_confusion_matrix\n",
    "fig, ax = plot_confusion_matrix(conf_mat = cm3)\n",
    "plt.show()"
   ]
  },
  {
   "cell_type": "code",
   "execution_count": 52,
   "metadata": {},
   "outputs": [
    {
     "name": "stdout",
     "output_type": "stream",
     "text": [
      "The outcome is: \n",
      "depressed\n"
     ]
    }
   ],
   "source": [
    "words = np.array(['not depressed', 'depressed'])\n",
    "print(\"The outcome is: \")\n",
    "print(words[fit3.predict([bert_model.encode(\"If you choose to define me by my mistakes, Remember redemption doesn't fall down at your feet.\")])].squeeze())"
   ]
  },
  {
   "cell_type": "code",
   "execution_count": 41,
   "metadata": {},
   "outputs": [
    {
     "name": "stdout",
     "output_type": "stream",
     "text": [
      "              precision    recall  f1-score   support\n",
      "\n",
      "           0       0.94      0.95      0.94      1561\n",
      "           1       0.83      0.81      0.82       502\n",
      "\n",
      "    accuracy                           0.91      2063\n",
      "   macro avg       0.88      0.88      0.88      2063\n",
      "weighted avg       0.91      0.91      0.91      2063\n",
      "\n"
     ]
    }
   ],
   "source": [
    "#Decision Trees\n",
    "from sklearn.metrics import classification_report\n",
    "from sklearn.tree import DecisionTreeClassifier\n",
    "model4 = DecisionTreeClassifier(random_state=1) #get instance of model\n",
    "fit4 = model4.fit(X_train, y_train) #train or fit model\n",
    "y_pred4 = model4.predict(X_test) #get y predictons\n",
    "print(classification_report(y_test, y_pred4)) #output accuracy"
   ]
  },
  {
   "cell_type": "code",
   "execution_count": 65,
   "metadata": {},
   "outputs": [
    {
     "name": "stdout",
     "output_type": "stream",
     "text": [
      "[[1484   77]\n",
      " [  40  462]]\n"
     ]
    },
    {
     "data": {
      "image/png": "[encoded data removed]",
      "text/plain": "<Figure size 432x288 with 1 Axes>"
     },
     "metadata": {
      "needs_background": "light"
     },
     "output_type": "display_data"
    }
   ],
   "source": [
    "from sklearn.metrics import confusion_matrix, accuracy_score\n",
    "cm4 = confusion_matrix(y_test, y_pred4)\n",
    "print(cm5)\n",
    "accuracy_score(y_test, y_pred4)\n",
    "\n",
    "from mlxtend.plotting import plot_confusion_matrix\n",
    "fig, ax = plot_confusion_matrix(conf_mat = cm4)\n",
    "plt.show()"
   ]
  },
  {
   "cell_type": "code",
   "execution_count": 53,
   "metadata": {},
   "outputs": [
    {
     "name": "stdout",
     "output_type": "stream",
     "text": [
      "The outcome is: \n",
      "depressed\n"
     ]
    }
   ],
   "source": [
    "words = np.array(['not depressed', 'depressed'])\n",
    "print(\"The outcome is: \")\n",
    "print(words[fit4.predict([bert_model.encode(\"If you choose to define me by my mistakes, Remember redemption doesn't fall down at your feet.\")])].squeeze())"
   ]
  },
  {
   "cell_type": "code",
   "execution_count": 54,
   "metadata": {},
   "outputs": [
    {
     "name": "stdout",
     "output_type": "stream",
     "text": [
      "              precision    recall  f1-score   support\n",
      "\n",
      "           0       0.97      0.95      0.96      1561\n",
      "           1       0.86      0.92      0.89       502\n",
      "\n",
      "    accuracy                           0.94      2063\n",
      "   macro avg       0.92      0.94      0.92      2063\n",
      "weighted avg       0.95      0.94      0.94      2063\n",
      "\n"
     ]
    }
   ],
   "source": [
    "#K-NN (K-Nearest Neighbors)\n",
    "from sklearn.metrics import classification_report\n",
    "from sklearn.neighbors import KNeighborsClassifier\n",
    "model5 = KNeighborsClassifier() #get instance of model\n",
    "fit5 = model5.fit(X_train, y_train) #train or fit model\n",
    "y_pred5 = model5.predict(X_test) #get y predictons\n",
    "print(classification_report(y_test, y_pred5)) #output accuracy"
   ]
  },
  {
   "cell_type": "code",
   "execution_count": 64,
   "metadata": {},
   "outputs": [
    {
     "name": "stdout",
     "output_type": "stream",
     "text": [
      "[[1484   77]\n",
      " [  40  462]]\n"
     ]
    },
    {
     "data": {
      "image/png": "[encoded data removed]",
      "text/plain": "<Figure size 432x288 with 1 Axes>"
     },
     "metadata": {
      "needs_background": "light"
     },
     "output_type": "display_data"
    }
   ],
   "source": [
    "from sklearn.metrics import confusion_matrix, accuracy_score\n",
    "cm5 = confusion_matrix(y_test, y_pred5)\n",
    "print(cm5)\n",
    "accuracy_score(y_test, y_pred5)\n",
    "\n",
    "from mlxtend.plotting import plot_confusion_matrix\n",
    "fig, ax = plot_confusion_matrix(conf_mat = cm5)\n",
    "plt.show()"
   ]
  },
  {
   "cell_type": "code",
   "execution_count": 79,
   "metadata": {},
   "outputs": [
    {
     "name": "stdout",
     "output_type": "stream",
     "text": [
      "The outcome is: \n",
      "depressed\n"
     ]
    }
   ],
   "source": [
    "words = np.array(['not depressed', 'depressed'])\n",
    "print(\"The outcome is: \")\n",
    "print(words[fit5.predict([bert_model.encode(\"If you choose to define me by my mistakes, Remember redemption doesn't fall down at your feet.\")])].squeeze())"
   ]
  },
  {
   "cell_type": "code",
   "execution_count": null,
   "metadata": {},
   "outputs": [],
   "source": [
    "#Train the model\n",
    "\n",
    "#X = embeddings\n",
    "#y = df['label (depression result)'] or labels = df.values[:,2].astype(float)\n",
    "\n",
    "from sklearn.model_selection import train_test_split\n",
    "X_train, X_test, y_train, y_test = train_test_split(embeddings, labels, \n",
    "                                          test_size=0.2, random_state=42)\n",
    "print (\"Training set shapes:\", X_train.shape, y_train.shape)\n",
    "print (\"Test set shapes:\", X_test.shape, y_test.shape)"
   ]
  },
  {
   "cell_type": "code",
   "execution_count": null,
   "metadata": {},
   "outputs": [],
   "source": [
    "\n",
    "#I used randomforestclassifier model, so don't know if this is necessary\n",
    "\n",
    "#prediction using keras model\n",
    "from tensorflow.keras import Sequential, layers\n",
    "# Create the model\n",
    "classifier = Sequential()\n",
    "classifier.add (layers.Dense(128, activation='relu', input_shape=(768,))) #256\n",
    "classifier.add (layers.Dense(1, activation='sigmoid'))#1\n",
    "classifier.compile(optimizer='adam', loss='binary_crossentropy', metrics=['accuracy'])  \n",
    "# Fit data to model\n",
    "classifier.fit (X_train, y_train, epochs=10, batch_size=16, \n",
    "                      validation_data=(X_test, y_test))\n",
    "#hist = classifier.fit (X_train, y_train, epochs=100, batch_size=16, \n",
    "                      #validation_data=(X_test, y_test))\n",
    "##from sklearn.ensemble import RandomForestClassifier\n",
    "#fit = RandomForestClassifier().fit(X_train, y_train)\n"
   ]
  },
  {
   "cell_type": "code",
   "execution_count": null,
   "metadata": {},
   "outputs": [],
   "source": [
    "#Evaluating the model\n",
    "score = classifier.evaluate(X_test, y_test, verbose=0)\n",
    "print('Test loss:', score[0])\n",
    "print('Test accuracy:', score[1])\n",
    "#prediction\n",
    "\n",
    "probability_model = tf.keras.Sequential([classifier,tf.keras.layers.Softmax()])\n",
    "print(probability_model)\n",
    "predictions = probability_model.predict([\"the worst sadness is the sadness you've taught yourself to hide\"])\n",
    "print(predictions)"
   ]
  },
  {
   "cell_type": "code",
   "execution_count": null,
   "metadata": {},
   "outputs": [],
   "source": [
    "#Predicting the output\n",
    "y_pred = classifier.predict(X_test)\n",
    "print(y_pred)\n",
    "#save the model\n",
    "classifier.save('twitter_depression.model')\n",
    "#load the model\n",
    "model = tf.keras.models.load_model(\"twitter_depression.model\")\n",
    "new_input = [[\"the worst sadness is the sadness you've taught yourself to hide\"]]"
   ]
  },
  {
   "cell_type": "code",
   "execution_count": 81,
   "metadata": {},
   "outputs": [
    {
     "name": "stdout",
     "output_type": "stream",
     "text": [
      "['depressed']\n"
     ]
    }
   ],
   "source": [
    "words = np.array(['not depressed', 'depressed'])\n",
    "Outcome = words[fit5.predict([bert_model.encode(\"the worst sadness is the sadness you've taught yourself to hide.\")])]\n",
    "#[fit.predict([bert_model.encode('the worst sadness is the sadness you've taught yourself to hide.')])]\n",
    "print(Outcome)"
   ]
  },
  {
   "cell_type": "code",
   "execution_count": 56,
   "metadata": {},
   "outputs": [],
   "source": [
    "#RandomForestClassifier\n",
    "\n",
    "from sklearn.ensemble import RandomForestClassifier\n",
    "fit6 = RandomForestClassifier().fit(X_train, y_train)"
   ]
  },
  {
   "cell_type": "code",
   "execution_count": 57,
   "metadata": {},
   "outputs": [
    {
     "name": "stdout",
     "output_type": "stream",
     "text": [
      "The accuracy is : \n"
     ]
    },
    {
     "data": {
      "text/plain": "0.956858943286476"
     },
     "execution_count": 57,
     "metadata": {},
     "output_type": "execute_result"
    }
   ],
   "source": [
    "print(\"The accuracy is : \")\n",
    "np.sum(fit6.predict(X_test)==y_test)/len(y_test)"
   ]
  },
  {
   "cell_type": "code",
   "execution_count": null,
   "metadata": {},
   "outputs": [],
   "source": []
  },
  {
   "cell_type": "code",
   "execution_count": 58,
   "metadata": {},
   "outputs": [
    {
     "data": {
      "text/plain": "[array([1])]"
     },
     "execution_count": 58,
     "metadata": {},
     "output_type": "execute_result"
    }
   ],
   "source": [
    "\n",
    "#predict some tweets\n",
    "[fit6.predict([bert_model.encode(\"the worst sadness is the sadness you've taught yourself to hide.\")])]\n",
    "#[fit.predict([bert_model.encode('the worst sadness is the sadness you've taught yourself to hide.')])\n"
   ]
  },
  {
   "cell_type": "code",
   "execution_count": 29,
   "metadata": {},
   "outputs": [],
   "source": [
    "words = np.array(['not depressed', 'depressed'])"
   ]
  },
  {
   "cell_type": "code",
   "execution_count": 60,
   "metadata": {},
   "outputs": [
    {
     "name": "stdout",
     "output_type": "stream",
     "text": [
      "The outcome is: \n",
      "not depressed\n"
     ]
    }
   ],
   "source": [
    "words = np.array(['not depressed', 'depressed'])\n",
    "print(\"The outcome is: \")\n",
    "print(words[fit6.predict([bert_model.encode(\"If you choose to define me by my mistakes, Remember redemption doesn't fall down at your feet.\")])].squeeze())"
   ]
  },
  {
   "cell_type": "code",
   "execution_count": 88,
   "metadata": {},
   "outputs": [
    {
     "ename": "IndentationError",
     "evalue": "expected an indented block (<ipython-input-88-b57b4a4da99d>, line 16)",
     "output_type": "error",
     "traceback": [
      "\u001b[0;36m  File \u001b[0;32m\"<ipython-input-88-b57b4a4da99d>\"\u001b[0;36m, line \u001b[0;32m16\u001b[0m\n\u001b[0;31m    myLabel = Label(root, text=\"Enter your tweets:\")\u001b[0m\n\u001b[0m    ^\u001b[0m\n\u001b[0;31mIndentationError\u001b[0m\u001b[0;31m:\u001b[0m expected an indented block\n"
     ]
    }
   ],
   "source": [
    "from tkinter import *\n",
    "\n",
    "root = Tk()\n",
    "root.title('TechLabs medicine!')\n",
    "root.geometry(\"400x400\")\n",
    "\n",
    "\n",
    "myTextbox1 = Entry(root, text=\"My text\", width=30)\n",
    "myTextbox1.pack()\n",
    "\n",
    "def hello():\n",
    "    hello_label = Label(root, text = \"Your result is: \" + myTextbox1.get())\n",
    "    hello_label.pack()\n",
    "def outcome():\n",
    "\n",
    "myLabel = Label(root, text=\"Enter your tweets:\")\n",
    "myLabel.pack()\n",
    "\n",
    "\n",
    "#myTextbox2 = Label(root, text=Outcome)\n",
    "\n",
    "myButton = Button(root, text =\"Submit\", command=hello)\n",
    "myButton.pack()\n",
    "\n",
    "#creating a Label Widget\n",
    "#myLabel1 = Label(root, text=words[fit.predict([bert_model.encode(\"the worst sadness is the sadness you've taught yourself to hide.\")])])\n",
    "#myLabel2 = Label(root, text=\"I am Sumanta\")\n",
    "#Shoving in into the screen\n",
    "#myLabel.pack()\n",
    "#myLabel1.grid(row=0, column=1)\n",
    "#myLabel2.grid(row=1, column=5)\n",
    "\n",
    "#looping\n",
    "root.mainloop()\n",
    "#make buttons"
   ]
  },
  {
   "cell_type": "code",
   "execution_count": 58,
   "metadata": {},
   "outputs": [
    {
     "name": "stdout",
     "output_type": "stream",
     "text": [
      "The outcome is: \n",
      "not depressed\n",
      "depressed\n",
      "depressed\n"
     ]
    }
   ],
   "source": [
    "print(\"The outcome is: \")\n",
    "print(words[fit.predict([bert_model.encode(\"If you choose to define me by my mistakes, Remember redemption doesn't fall down at your feet.\")])].squeeze())\n",
    "print(words[fit.predict([bert_model.encode(\"the worst sadness is the sadness you've taught yourself to hide.\")])].squeeze())\n",
    "print(words[fit.predict([bert_model.encode(\"the best happiness is the sadness you've taught yourself to hide.\")])].squeeze())"
   ]
  },
  {
   "cell_type": "code",
   "execution_count": null,
   "metadata": {},
   "outputs": [],
   "source": [
    "#new_output = model.predict(new_input)\n",
    "#Xnew, _ = make_blobs(n_samples=3, centers=2, n_features=2, random_state=1)\n",
    "#Xnew = scalar.transform(Xnew)\n",
    "# make a prediction\n",
    "#ynew = model.predict_classes(Xnew)\n",
    "# show the inputs and predicted outputs\n",
    "\n",
    "\n",
    "#for i in range(len(X_train)):\n",
    "\t#print(\"X_train=%s, Predicted=%s\" % (X_train[i], y_train[i]))\n",
    "\n",
    "#embeddings = bert_model.encode(df.message, show_progress_bar=True)\n",
    "#print (embeddings.shape)\n",
    "#Not necessary\n",
    "feature_names=word_freq['word'].values\n",
    "wc=WordCloud(max_words=200)\n",
    "wc.generate(' '.join(word for word in feature_names[500:2500] ))\n",
    "plt.figure(figsize=(20,20))\n",
    "plt.axis('off')\n",
    "plt.imshow(wc)\n",
    "#wc.generate(' '.join(word for word in feature_names[500:3500] ))"
   ]
  },
  {
   "cell_type": "code",
   "execution_count": null,
   "metadata": {},
   "outputs": [],
   "source": []
  }
 ],
 "metadata": {
  "kernelspec": {
   "display_name": "Python 3.8.5 64-bit ('base': conda)",
   "name": "python385jvsc74a57bd09c49c733c021723d196ac720a4ef957ac0cd12fc16dcaec74fb708731994343e"
  },
  "language_info": {
   "codemirror_mode": {
    "name": "ipython",
    "version": 3
   },
   "file_extension": ".py",
   "mimetype": "text/x-python",
   "name": "python",
   "nbconvert_exporter": "python",
   "pygments_lexer": "ipython3",
   "version": "3.8.5"
  },
  "orig_nbformat": 2
 },
 "nbformat": 4,
 "nbformat_minor": 2
}